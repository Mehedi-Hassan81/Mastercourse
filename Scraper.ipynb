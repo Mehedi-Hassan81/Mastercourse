{
 "cells": [
  {
   "cell_type": "code",
   "execution_count": 19,
   "id": "14df0512-6e08-446f-ace4-5b7db246cef7",
   "metadata": {},
   "outputs": [],
   "source": [
    "from selenium import webdriver\n",
    "from selenium.webdriver.chrome.service import Service\n",
    "from selenium.webdriver.chrome.options import Options\n",
    "from selenium.webdriver.common.by import By\n",
    "from selenium.webdriver.support.ui import WebDriverWait\n",
    "from selenium.webdriver.support import expected_conditions as EC\n",
    "import pandas as pd\n",
    "import time"
   ]
  },
  {
   "cell_type": "code",
   "execution_count": 20,
   "id": "00051ecd-7091-414b-93b4-d2af4007eba8",
   "metadata": {},
   "outputs": [],
   "source": [
    "# Configure Brave browser\n",
    "brave_path = \"/usr/bin/brave-browser\"\n",
    "chromedriver_path = \"/home/mehedihassan/Documents/Mastercourse/chromedriver\"\n",
    "\n",
    "options = Options()\n",
    "options.binary_location = brave_path\n",
    "options.add_argument(\"--start-maximized\")  # Remove to run headless\n",
    "\n",
    "service = Service(executable_path=chromedriver_path)\n",
    "driver = webdriver.Chrome(service=service, options=options)\n",
    "\n",
    "url = \"https://en.wikipedia.org/wiki/List_of_countries_by_renewable_electricity_production\"\n",
    "driver.get(url)"
   ]
  },
  {
   "cell_type": "code",
   "execution_count": 62,
   "id": "3a72a673-4601-4f26-8461-2c950b98c991",
   "metadata": {},
   "outputs": [
    {
     "data": {
      "text/plain": [
       "['Location',\n",
       " 'Renew',\n",
       " 'Hydro',\n",
       " 'Wind',\n",
       " 'Solar',\n",
       " 'Bio',\n",
       " 'Geo',\n",
       " 'Year',\n",
       " 'Location',\n",
       " 'Renew',\n",
       " 'Hydro',\n",
       " 'Wind',\n",
       " 'Solar',\n",
       " 'Bio',\n",
       " 'Geo',\n",
       " 'Year']"
      ]
     },
     "execution_count": 62,
     "metadata": {},
     "output_type": "execute_result"
    }
   ],
   "source": [
    "headers = [ header.text.replace('.','') for header in driver.find_elements(By.CLASS_NAME, \"headerSort\")]\n",
    "headers"
   ]
  },
  {
   "cell_type": "code",
   "execution_count": 63,
   "id": "66991c72-2598-408d-a153-6051c76af51d",
   "metadata": {},
   "outputs": [],
   "source": [
    "twh_header = headers[:8]\n",
    "percent_header = headers[8:len(headers)]"
   ]
  },
  {
   "cell_type": "code",
   "execution_count": 65,
   "id": "3c148e84-e34c-49a0-a6ae-1805c57ed960",
   "metadata": {},
   "outputs": [
    {
     "name": "stdout",
     "output_type": "stream",
     "text": [
      "['Location', 'Renew', 'Hydro', 'Wind', 'Solar', 'Bio', 'Geo', 'Year'] ['Location', 'Renew', 'Hydro', 'Wind', 'Solar', 'Bio', 'Geo', 'Year']\n"
     ]
    }
   ],
   "source": [
    "print(twh_header, percent_header)"
   ]
  },
  {
   "cell_type": "code",
   "execution_count": 77,
   "id": "663b7706-db82-4698-9efa-0bcdf1df1d7c",
   "metadata": {},
   "outputs": [
    {
     "data": {
      "text/plain": [
       "2"
      ]
     },
     "execution_count": 77,
     "metadata": {},
     "output_type": "execute_result"
    }
   ],
   "source": [
    "raw_data = [ data.text.split('\\n') for data in driver.find_elements(By.CLASS_NAME, \"wikitable\")]\n",
    "len(raw_data)"
   ]
  },
  {
   "cell_type": "code",
   "execution_count": 98,
   "id": "8a1db35b-d0eb-4b48-bd80-62e4c3b70950",
   "metadata": {},
   "outputs": [],
   "source": [
    "raw_data[0].insert(0, twh_header)\n",
    "raw_data[1].insert(0, percent_header)"
   ]
  },
  {
   "cell_type": "code",
   "execution_count": 99,
   "id": "5e472f5d-af87-49a8-b768-6144cb08c1c8",
   "metadata": {},
   "outputs": [
    {
     "data": {
      "text/plain": [
       "'Location Renew. Hydro Wind Solar Bio. Geo. Year'"
      ]
     },
     "execution_count": 99,
     "metadata": {},
     "output_type": "execute_result"
    }
   ],
   "source": [
    "raw_data[0].pop(1)\n",
    "raw_data[1].pop(1)"
   ]
  },
  {
   "cell_type": "code",
   "execution_count": 103,
   "id": "2b8f98aa-8a34-4122-8a18-9877d48220c5",
   "metadata": {},
   "outputs": [
    {
     "name": "stdout",
     "output_type": "stream",
     "text": [
      "[['Location', 'Renew', 'Hydro', 'Wind', 'Solar', 'Bio', 'Geo', 'Year'], ' World 8,971 4,240 2,310 1,644 689 88 2023', ' China 2,894 1,226 886 584 198 0.2 2023', ' United States 965 239 421 239 47 18 2023', ' Brazil 631 429 96 51 56 0 2023']\n",
      "[['Location', 'Renew', 'Hydro', 'Wind', 'Solar', 'Bio', 'Geo', 'Year'], ' World 30 14 8 6 2 0.3 2023', ' Albania 100 97 0 3 0 0 2023', ' Bhutan 100 100 0 0 0 0 2023', ' Central African Republic 100 100 0 0 0 0 2023']\n"
     ]
    }
   ],
   "source": [
    "print(raw_data[0][:5])\n",
    "print(raw_data[1][:5])"
   ]
  },
  {
   "cell_type": "code",
   "execution_count": 104,
   "id": "72641d30-6ec3-4b3d-b760-e934d9e65d08",
   "metadata": {},
   "outputs": [],
   "source": [
    "# Process rows: split strings and remove commas from numbers\n",
    "twh_rows = []\n",
    "percent_rows = []\n",
    "for row1 in raw_data[0][1:]:\n",
    "    values1 = row1.replace(',', '').rsplit(maxsplit=7)\n",
    "    twh_rows.append(values1)\n",
    "\n",
    "for row2 in raw_data[1][1:]:\n",
    "    values2 = row2.replace(',', '').rsplit(maxsplit=7)\n",
    "    percent_rows.append(values2)"
   ]
  },
  {
   "cell_type": "code",
   "execution_count": 105,
   "id": "693a0427-7d98-4dd0-badf-3180aeabef65",
   "metadata": {},
   "outputs": [],
   "source": [
    "twh_df = pd.DataFrame(twh_rows, columns=twh_header)\n",
    "percent_df = pd.DataFrame(percent_rows, columns=percent_header)"
   ]
  },
  {
   "cell_type": "code",
   "execution_count": 106,
   "id": "05c07b36-dc82-422e-ae1d-56fa27006e93",
   "metadata": {},
   "outputs": [],
   "source": [
    "# Convert numeric columns to appropriate types\n",
    "numeric_cols = ['Renew', 'Hydro', 'Wind', 'Solar', 'Bio', 'Geo', 'Year']\n",
    "twh_df[numeric_cols] = twh_df[numeric_cols].apply(pd.to_numeric)\n",
    "percent_df[numeric_cols] = percent_df[numeric_cols].apply(pd.to_numeric)\n",
    "twh_df['Location'] = twh_df['Location'].str.strip()\n",
    "percent_df['Location'] = percent_df['Location'].str.strip()"
   ]
  },
  {
   "cell_type": "code",
   "execution_count": 107,
   "id": "940f4b26-208e-46ef-aac5-c35bcc98be77",
   "metadata": {},
   "outputs": [
    {
     "name": "stdout",
     "output_type": "stream",
     "text": [
      "213 213\n"
     ]
    }
   ],
   "source": [
    "print(len(twh_df), len(percent_df))"
   ]
  },
  {
   "cell_type": "code",
   "execution_count": 96,
   "id": "0213b831-a281-4c98-b9c6-46e3fcfbaf5f",
   "metadata": {},
   "outputs": [
    {
     "data": {
      "text/html": [
       "<div>\n",
       "<style scoped>\n",
       "    .dataframe tbody tr th:only-of-type {\n",
       "        vertical-align: middle;\n",
       "    }\n",
       "\n",
       "    .dataframe tbody tr th {\n",
       "        vertical-align: top;\n",
       "    }\n",
       "\n",
       "    .dataframe thead th {\n",
       "        text-align: right;\n",
       "    }\n",
       "</style>\n",
       "<table border=\"1\" class=\"dataframe\">\n",
       "  <thead>\n",
       "    <tr style=\"text-align: right;\">\n",
       "      <th></th>\n",
       "      <th>Location</th>\n",
       "      <th>Renew</th>\n",
       "      <th>Hydro</th>\n",
       "      <th>Wind</th>\n",
       "      <th>Solar</th>\n",
       "      <th>Bio</th>\n",
       "      <th>Geo</th>\n",
       "      <th>Year</th>\n",
       "    </tr>\n",
       "  </thead>\n",
       "  <tbody>\n",
       "    <tr>\n",
       "      <th>0</th>\n",
       "      <td>World</td>\n",
       "      <td>8971.0</td>\n",
       "      <td>4240.0</td>\n",
       "      <td>2310.0</td>\n",
       "      <td>1644.0</td>\n",
       "      <td>689.0</td>\n",
       "      <td>88.0</td>\n",
       "      <td>2023</td>\n",
       "    </tr>\n",
       "    <tr>\n",
       "      <th>1</th>\n",
       "      <td>China</td>\n",
       "      <td>2894.0</td>\n",
       "      <td>1226.0</td>\n",
       "      <td>886.0</td>\n",
       "      <td>584.0</td>\n",
       "      <td>198.0</td>\n",
       "      <td>0.2</td>\n",
       "      <td>2023</td>\n",
       "    </tr>\n",
       "    <tr>\n",
       "      <th>2</th>\n",
       "      <td>United States</td>\n",
       "      <td>965.0</td>\n",
       "      <td>239.0</td>\n",
       "      <td>421.0</td>\n",
       "      <td>239.0</td>\n",
       "      <td>47.0</td>\n",
       "      <td>18.0</td>\n",
       "      <td>2023</td>\n",
       "    </tr>\n",
       "    <tr>\n",
       "      <th>3</th>\n",
       "      <td>Brazil</td>\n",
       "      <td>631.0</td>\n",
       "      <td>429.0</td>\n",
       "      <td>96.0</td>\n",
       "      <td>51.0</td>\n",
       "      <td>56.0</td>\n",
       "      <td>0.0</td>\n",
       "      <td>2023</td>\n",
       "    </tr>\n",
       "    <tr>\n",
       "      <th>4</th>\n",
       "      <td>Canada</td>\n",
       "      <td>421.0</td>\n",
       "      <td>364.0</td>\n",
       "      <td>39.0</td>\n",
       "      <td>8.0</td>\n",
       "      <td>10.0</td>\n",
       "      <td>0.0</td>\n",
       "      <td>2023</td>\n",
       "    </tr>\n",
       "    <tr>\n",
       "      <th>...</th>\n",
       "      <td>...</td>\n",
       "      <td>...</td>\n",
       "      <td>...</td>\n",
       "      <td>...</td>\n",
       "      <td>...</td>\n",
       "      <td>...</td>\n",
       "      <td>...</td>\n",
       "      <td>...</td>\n",
       "    </tr>\n",
       "    <tr>\n",
       "      <th>208</th>\n",
       "      <td>Saint Helena Ascension and Tristan da Cunha</td>\n",
       "      <td>0.0</td>\n",
       "      <td>0.0</td>\n",
       "      <td>0.0</td>\n",
       "      <td>0.0</td>\n",
       "      <td>0.0</td>\n",
       "      <td>0.0</td>\n",
       "      <td>2023</td>\n",
       "    </tr>\n",
       "    <tr>\n",
       "      <th>209</th>\n",
       "      <td>Saint Pierre and Miquelon</td>\n",
       "      <td>0.0</td>\n",
       "      <td>0.0</td>\n",
       "      <td>0.0</td>\n",
       "      <td>0.0</td>\n",
       "      <td>0.0</td>\n",
       "      <td>0.0</td>\n",
       "      <td>2023</td>\n",
       "    </tr>\n",
       "    <tr>\n",
       "      <th>210</th>\n",
       "      <td>Timor-Leste</td>\n",
       "      <td>0.0</td>\n",
       "      <td>0.0</td>\n",
       "      <td>0.0</td>\n",
       "      <td>0.0</td>\n",
       "      <td>0.0</td>\n",
       "      <td>0.0</td>\n",
       "      <td>2023</td>\n",
       "    </tr>\n",
       "    <tr>\n",
       "      <th>211</th>\n",
       "      <td>Turks and Caicos Islands</td>\n",
       "      <td>0.0</td>\n",
       "      <td>0.0</td>\n",
       "      <td>0.0</td>\n",
       "      <td>0.0</td>\n",
       "      <td>0.0</td>\n",
       "      <td>0.0</td>\n",
       "      <td>2023</td>\n",
       "    </tr>\n",
       "    <tr>\n",
       "      <th>212</th>\n",
       "      <td>British Virgin Islands</td>\n",
       "      <td>0.0</td>\n",
       "      <td>0.0</td>\n",
       "      <td>0.0</td>\n",
       "      <td>0.0</td>\n",
       "      <td>0.0</td>\n",
       "      <td>0.0</td>\n",
       "      <td>2023</td>\n",
       "    </tr>\n",
       "  </tbody>\n",
       "</table>\n",
       "<p>213 rows × 8 columns</p>\n",
       "</div>"
      ],
      "text/plain": [
       "                                        Location   Renew   Hydro    Wind  \\\n",
       "0                                          World  8971.0  4240.0  2310.0   \n",
       "1                                          China  2894.0  1226.0   886.0   \n",
       "2                                  United States   965.0   239.0   421.0   \n",
       "3                                         Brazil   631.0   429.0    96.0   \n",
       "4                                         Canada   421.0   364.0    39.0   \n",
       "..                                           ...     ...     ...     ...   \n",
       "208  Saint Helena Ascension and Tristan da Cunha     0.0     0.0     0.0   \n",
       "209                    Saint Pierre and Miquelon     0.0     0.0     0.0   \n",
       "210                                  Timor-Leste     0.0     0.0     0.0   \n",
       "211                     Turks and Caicos Islands     0.0     0.0     0.0   \n",
       "212                       British Virgin Islands     0.0     0.0     0.0   \n",
       "\n",
       "      Solar    Bio   Geo  Year  \n",
       "0    1644.0  689.0  88.0  2023  \n",
       "1     584.0  198.0   0.2  2023  \n",
       "2     239.0   47.0  18.0  2023  \n",
       "3      51.0   56.0   0.0  2023  \n",
       "4       8.0   10.0   0.0  2023  \n",
       "..      ...    ...   ...   ...  \n",
       "208     0.0    0.0   0.0  2023  \n",
       "209     0.0    0.0   0.0  2023  \n",
       "210     0.0    0.0   0.0  2023  \n",
       "211     0.0    0.0   0.0  2023  \n",
       "212     0.0    0.0   0.0  2023  \n",
       "\n",
       "[213 rows x 8 columns]"
      ]
     },
     "execution_count": 96,
     "metadata": {},
     "output_type": "execute_result"
    }
   ],
   "source": [
    "twh_df"
   ]
  },
  {
   "cell_type": "code",
   "execution_count": 108,
   "id": "93e1a093-a904-4e3b-ae2b-cc38fd270213",
   "metadata": {},
   "outputs": [
    {
     "data": {
      "text/html": [
       "<div>\n",
       "<style scoped>\n",
       "    .dataframe tbody tr th:only-of-type {\n",
       "        vertical-align: middle;\n",
       "    }\n",
       "\n",
       "    .dataframe tbody tr th {\n",
       "        vertical-align: top;\n",
       "    }\n",
       "\n",
       "    .dataframe thead th {\n",
       "        text-align: right;\n",
       "    }\n",
       "</style>\n",
       "<table border=\"1\" class=\"dataframe\">\n",
       "  <thead>\n",
       "    <tr style=\"text-align: right;\">\n",
       "      <th></th>\n",
       "      <th>Location</th>\n",
       "      <th>Renew</th>\n",
       "      <th>Hydro</th>\n",
       "      <th>Wind</th>\n",
       "      <th>Solar</th>\n",
       "      <th>Bio</th>\n",
       "      <th>Geo</th>\n",
       "      <th>Year</th>\n",
       "    </tr>\n",
       "  </thead>\n",
       "  <tbody>\n",
       "    <tr>\n",
       "      <th>0</th>\n",
       "      <td>World</td>\n",
       "      <td>30.0</td>\n",
       "      <td>14.0</td>\n",
       "      <td>8.0</td>\n",
       "      <td>6.0</td>\n",
       "      <td>2.0</td>\n",
       "      <td>0.3</td>\n",
       "      <td>2023</td>\n",
       "    </tr>\n",
       "    <tr>\n",
       "      <th>1</th>\n",
       "      <td>Albania</td>\n",
       "      <td>100.0</td>\n",
       "      <td>97.0</td>\n",
       "      <td>0.0</td>\n",
       "      <td>3.0</td>\n",
       "      <td>0.0</td>\n",
       "      <td>0.0</td>\n",
       "      <td>2023</td>\n",
       "    </tr>\n",
       "    <tr>\n",
       "      <th>2</th>\n",
       "      <td>Bhutan</td>\n",
       "      <td>100.0</td>\n",
       "      <td>100.0</td>\n",
       "      <td>0.0</td>\n",
       "      <td>0.0</td>\n",
       "      <td>0.0</td>\n",
       "      <td>0.0</td>\n",
       "      <td>2023</td>\n",
       "    </tr>\n",
       "    <tr>\n",
       "      <th>3</th>\n",
       "      <td>Central African Republic</td>\n",
       "      <td>100.0</td>\n",
       "      <td>100.0</td>\n",
       "      <td>0.0</td>\n",
       "      <td>0.0</td>\n",
       "      <td>0.0</td>\n",
       "      <td>0.0</td>\n",
       "      <td>2023</td>\n",
       "    </tr>\n",
       "    <tr>\n",
       "      <th>4</th>\n",
       "      <td>DR Congo</td>\n",
       "      <td>100.0</td>\n",
       "      <td>86.0</td>\n",
       "      <td>0.0</td>\n",
       "      <td>14.0</td>\n",
       "      <td>0.2</td>\n",
       "      <td>0.0</td>\n",
       "      <td>2023</td>\n",
       "    </tr>\n",
       "    <tr>\n",
       "      <th>...</th>\n",
       "      <td>...</td>\n",
       "      <td>...</td>\n",
       "      <td>...</td>\n",
       "      <td>...</td>\n",
       "      <td>...</td>\n",
       "      <td>...</td>\n",
       "      <td>...</td>\n",
       "      <td>...</td>\n",
       "    </tr>\n",
       "    <tr>\n",
       "      <th>208</th>\n",
       "      <td>Saint Helena Ascension and Tristan da Cunha</td>\n",
       "      <td>0.0</td>\n",
       "      <td>0.0</td>\n",
       "      <td>0.0</td>\n",
       "      <td>0.0</td>\n",
       "      <td>0.0</td>\n",
       "      <td>0.0</td>\n",
       "      <td>2023</td>\n",
       "    </tr>\n",
       "    <tr>\n",
       "      <th>209</th>\n",
       "      <td>Saint Pierre and Miquelon</td>\n",
       "      <td>0.0</td>\n",
       "      <td>0.0</td>\n",
       "      <td>0.0</td>\n",
       "      <td>0.0</td>\n",
       "      <td>0.0</td>\n",
       "      <td>0.0</td>\n",
       "      <td>2023</td>\n",
       "    </tr>\n",
       "    <tr>\n",
       "      <th>210</th>\n",
       "      <td>Timor-Leste</td>\n",
       "      <td>0.0</td>\n",
       "      <td>0.0</td>\n",
       "      <td>0.0</td>\n",
       "      <td>0.0</td>\n",
       "      <td>0.0</td>\n",
       "      <td>0.0</td>\n",
       "      <td>2023</td>\n",
       "    </tr>\n",
       "    <tr>\n",
       "      <th>211</th>\n",
       "      <td>Turks and Caicos Islands</td>\n",
       "      <td>0.0</td>\n",
       "      <td>0.0</td>\n",
       "      <td>0.0</td>\n",
       "      <td>0.0</td>\n",
       "      <td>0.0</td>\n",
       "      <td>0.0</td>\n",
       "      <td>2023</td>\n",
       "    </tr>\n",
       "    <tr>\n",
       "      <th>212</th>\n",
       "      <td>British Virgin Islands</td>\n",
       "      <td>0.0</td>\n",
       "      <td>0.0</td>\n",
       "      <td>0.0</td>\n",
       "      <td>0.0</td>\n",
       "      <td>0.0</td>\n",
       "      <td>0.0</td>\n",
       "      <td>2023</td>\n",
       "    </tr>\n",
       "  </tbody>\n",
       "</table>\n",
       "<p>213 rows × 8 columns</p>\n",
       "</div>"
      ],
      "text/plain": [
       "                                        Location  Renew  Hydro  Wind  Solar  \\\n",
       "0                                          World   30.0   14.0   8.0    6.0   \n",
       "1                                        Albania  100.0   97.0   0.0    3.0   \n",
       "2                                         Bhutan  100.0  100.0   0.0    0.0   \n",
       "3                       Central African Republic  100.0  100.0   0.0    0.0   \n",
       "4                                       DR Congo  100.0   86.0   0.0   14.0   \n",
       "..                                           ...    ...    ...   ...    ...   \n",
       "208  Saint Helena Ascension and Tristan da Cunha    0.0    0.0   0.0    0.0   \n",
       "209                    Saint Pierre and Miquelon    0.0    0.0   0.0    0.0   \n",
       "210                                  Timor-Leste    0.0    0.0   0.0    0.0   \n",
       "211                     Turks and Caicos Islands    0.0    0.0   0.0    0.0   \n",
       "212                       British Virgin Islands    0.0    0.0   0.0    0.0   \n",
       "\n",
       "     Bio  Geo  Year  \n",
       "0    2.0  0.3  2023  \n",
       "1    0.0  0.0  2023  \n",
       "2    0.0  0.0  2023  \n",
       "3    0.0  0.0  2023  \n",
       "4    0.2  0.0  2023  \n",
       "..   ...  ...   ...  \n",
       "208  0.0  0.0  2023  \n",
       "209  0.0  0.0  2023  \n",
       "210  0.0  0.0  2023  \n",
       "211  0.0  0.0  2023  \n",
       "212  0.0  0.0  2023  \n",
       "\n",
       "[213 rows x 8 columns]"
      ]
     },
     "execution_count": 108,
     "metadata": {},
     "output_type": "execute_result"
    }
   ],
   "source": [
    "percent_df"
   ]
  },
  {
   "cell_type": "code",
   "execution_count": 97,
   "id": "30a49bd4-9dc3-4246-a4b3-1840e915d31c",
   "metadata": {},
   "outputs": [],
   "source": [
    "twh_df.to_csv(\"renewable_twh.csv\", index=False)"
   ]
  },
  {
   "cell_type": "code",
   "execution_count": 109,
   "id": "09bbc6db-0fce-447a-8b45-08e8978343de",
   "metadata": {},
   "outputs": [],
   "source": [
    "percent_df.to_csv(\"renewable_percent.csv\", index=False)"
   ]
  }
 ],
 "metadata": {
  "kernelspec": {
   "display_name": "Python [conda env:base] *",
   "language": "python",
   "name": "conda-base-py"
  },
  "language_info": {
   "codemirror_mode": {
    "name": "ipython",
    "version": 3
   },
   "file_extension": ".py",
   "mimetype": "text/x-python",
   "name": "python",
   "nbconvert_exporter": "python",
   "pygments_lexer": "ipython3",
   "version": "3.12.7"
  }
 },
 "nbformat": 4,
 "nbformat_minor": 5
}
